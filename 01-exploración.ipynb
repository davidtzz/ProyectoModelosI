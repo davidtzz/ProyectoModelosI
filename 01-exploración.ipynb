{
  "cells": [
    {
      "cell_type": "code",
      "execution_count": 1,
      "metadata": {
        "id": "AZ45degw3yjR"
      },
      "outputs": [],
      "source": [
        "import csv\n",
        "\n",
        "#Cargar el csv\n",
        "def load(csvfile):\n",
        "  list=[]\n",
        "  with open(csvfile, newline='', encoding='utf-8') as students:\n",
        "    read_students = csv.reader(students, delimiter=',') #Se salta el encabezado con los parámetros\n",
        "    for row in read_students:\n",
        "      list.append(row)\n",
        "  return list\n",
        "\n",
        "#Exploración 1 - ¿Cuántos estudiantes de enfermeria son del departamento de Antioquia?\n",
        "def antioquia(data):\n",
        "  count=0\n",
        "  for row in data:\n",
        "    if row[3] == 'ANTIOQUIA' and row[2]=='ENFERMERIA':\n",
        "      count+=1\n",
        "  return count\n",
        "\n",
        "#Exploración 2 - ¿Cuántos estudiantes de Psicologia en el departamento de Sucre son estrato 4?\n",
        "def sucre_estrato4(data):\n",
        "  count=0\n",
        "  for row in data:\n",
        "    if row[3] == 'SUCRE' and row[2]=='PSICOLOGIA' and row[6]=='Estrato 4':\n",
        "      count+=1\n",
        "  return count\n",
        "\n",
        "#Exploración 3 - ¿Cuántos estudiantes hay de Bogotá o Antioquia?\n",
        "def bogota_antioquia(data):\n",
        "  count=0\n",
        "  for row in data:\n",
        "    if row[3] == 'BOGOTÁ' or row[3] == 'ANTIOQUIA':\n",
        "      count+=1\n",
        "  return count\n",
        "\n",
        "#Mostrar algunas filas, ya que con el tamaño del archivo el entorno de ejecución se desconecta\n",
        "def print_sample(data, num_samples=10):\n",
        "    for row in data[:num_samples]:\n",
        "        print(row)"
      ]
    },
    {
      "cell_type": "code",
      "execution_count": 2,
      "metadata": {
        "colab": {
          "base_uri": "https://localhost:8080/"
        },
        "id": "YT1Sk084F8Fe",
        "outputId": "721df4a5-4049-4fed-e0a3-b9b3984edb25"
      },
      "outputs": [
        {
          "name": "stdout",
          "output_type": "stream",
          "text": [
            "['ID', 'PERIODO', 'ESTU_PRGM_ACADEMICO', 'ESTU_PRGM_DEPARTAMENTO', 'ESTU_VALORMATRICULAUNIVERSIDAD', 'ESTU_HORASSEMANATRABAJA', 'FAMI_ESTRATOVIVIENDA', 'FAMI_TIENEINTERNET', 'FAMI_EDUCACIONPADRE', 'FAMI_EDUCACIONMADRE', 'ESTU_PAGOMATRICULAPROPIO', 'RENDIMIENTO_GLOBAL']\n",
            "['904256', '20212', 'ENFERMERIA', 'BOGOTÁ', 'Entre 5.5 millones y menos de 7 millones', 'Menos de 10 horas', 'Estrato 3', 'Si', 'Técnica o tecnológica incompleta', 'Postgrado', 'No', 'medio-alto']\n",
            "['645256', '20212', 'DERECHO', 'ATLANTICO', 'Entre 2.5 millones y menos de 4 millones', '0', 'Estrato 3', 'No', 'Técnica o tecnológica completa', 'Técnica o tecnológica incompleta', 'No', 'bajo']\n",
            "['308367', '20203', 'MERCADEO Y PUBLICIDAD', 'BOGOTÁ', 'Entre 2.5 millones y menos de 4 millones', 'Más de 30 horas', 'Estrato 3', 'Si', 'Secundaria (Bachillerato) completa', 'Secundaria (Bachillerato) completa', 'No', 'bajo']\n",
            "['470353', '20195', 'ADMINISTRACION DE EMPRESAS', 'SANTANDER', 'Entre 4 millones y menos de 5.5 millones', '0', 'Estrato 4', 'Si', 'No sabe', 'Secundaria (Bachillerato) completa', 'No', 'alto']\n"
          ]
        }
      ],
      "source": [
        "#Para probar que si imprime\n",
        "mylist = load('train.csv')\n",
        "print_sample(mylist,5)"
      ]
    },
    {
      "cell_type": "code",
      "execution_count": 3,
      "metadata": {
        "colab": {
          "base_uri": "https://localhost:8080/"
        },
        "id": "yaXOpk_mBdH8",
        "outputId": "49125fd9-734b-4bb5-8186-57c929679cb2"
      },
      "outputs": [
        {
          "name": "stdout",
          "output_type": "stream",
          "text": [
            "Hay  786  estudiantes de enfermeria en Antioquia\n",
            "Hay  10  estudiantes de Psicologia en Sucre con estrato 4\n",
            "Hay  365766  estudiantes de Antioquia o Bogotá\n"
          ]
        }
      ],
      "source": [
        "#Prueba de las exploraciones\n",
        "studentsbydepartment = antioquia(mylist)\n",
        "estrato2psicologia = sucre_estrato4(mylist)\n",
        "estudiantes_bogota_antioquia = bogota_antioquia(mylist)\n",
        "print('Hay ',studentsbydepartment,' estudiantes de enfermeria en Antioquia')\n",
        "print('Hay ',estrato2psicologia,' estudiantes de Psicologia en Sucre con estrato 4')\n",
        "print('Hay ',estudiantes_bogota_antioquia,' estudiantes de Antioquia o Bogotá')"
      ]
    }
  ],
  "metadata": {
    "colab": {
      "provenance": []
    },
    "kernelspec": {
      "display_name": "Python 3",
      "name": "python3"
    },
    "language_info": {
      "codemirror_mode": {
        "name": "ipython",
        "version": 3
      },
      "file_extension": ".py",
      "mimetype": "text/x-python",
      "name": "python",
      "nbconvert_exporter": "python",
      "pygments_lexer": "ipython3",
      "version": "3.12.4"
    }
  },
  "nbformat": 4,
  "nbformat_minor": 0
}
